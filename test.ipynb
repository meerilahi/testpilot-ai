{
 "cells": [
  {
   "cell_type": "markdown",
   "id": "159bf342",
   "metadata": {},
   "source": [
    "# Importing Libraries"
   ]
  },
  {
   "cell_type": "code",
   "execution_count": 16,
   "id": "0946fc37",
   "metadata": {},
   "outputs": [],
   "source": [
    "from PIL import Image\n",
    "from io import BytesIO\n",
    "from typing import List\n",
    "from schemas.mark_subjective_answersheet import MarkSubjectiveAnswerSheetRequest, QuestionRequest\n",
    "from pdf2image import convert_from_bytes\n",
    "from core.extract_student_id import extract_student_id\n",
    "from core.ocr_answer_sheet import ocr_answer_sheet\n",
    "from core.mark_answer_sheet import mark_answer_sheet\n",
    "from core.prepare_response import prepare_response\n",
    "from core.presentation_score import get_presentation_score\n",
    "from core.get_pdf_bytes_from_firebase import get_pdf_bytes_from_firebase\n",
    "from core.pages_questions_mapping import map_pages_to_questions\n",
    "from core.get_attempted_question_mask import get_attempted_question_mask\n",
    "from core.pre_process_images import pre_process_images\n",
    "from core.generate_marksheet_pdf import generate_marksheet_pdf"
   ]
  },
  {
   "cell_type": "markdown",
   "id": "3a271beb",
   "metadata": {},
   "source": [
    "# Sample Request"
   ]
  },
  {
   "cell_type": "code",
   "execution_count": 2,
   "id": "98e5f9af",
   "metadata": {},
   "outputs": [],
   "source": [
    "question_list =  [\n",
    "    QuestionRequest(\n",
    "    question_number = 1,\n",
    "    q_type = \"short\",\n",
    "    question_text =  \"Complete the organization level against each example : \\n Examples Stomach \\n Man \\n Glucose \\n Ribosome\",\n",
    "    answer_key = \" Examples \\t Organization Level \\n Stomach \\t Organ \\n Man \\t Organism \\n Glucose \\t Molecule \\n Ribosome \\t Organelles\",\n",
    "    rubrics = [(\"Stomach to Organ\",1), (\"Man is Organism\",1), (\"Glucose is Molecule\",1), (\"Ribosome is Organelles\",1)],\n",
    "    grammer_penalty =  \"Low\",\n",
    "    question_marks =  4,\n",
    "    ),   \n",
    "    QuestionRequest(\n",
    "        question_number = 2,\n",
    "        q_type = \"short\",\n",
    "        question_text =  \"Briefly explain following four characteristics of kingdom Protista: a. Cell Type, b. Nuclear envelope, c. cell wall, d. mode of nutrition \",\n",
    "        answer_key = \" a. Cell type: Eukaryotic unicellular- colonial or simple multicellular \\n b. Nuclear envelope: Present \\n c. Cell wall: Present in some forms, various types \\n d. Mode of nutrition: Photosynthetic or heterotrophic or combination of these.\",\n",
    "        rubrics = [(\"Cell type: Eukaryotic unicellular- colonial or simple multicellular\",1), (\"Nuclear envelope: Present\",1), (\" Cell wall: Present in some forms, various types\",1), (\"Mode of nutrition: Photosynthetic or heterotrophic or combination of these\",1)],\n",
    "        grammer_penalty =  \"Low\",\n",
    "        question_marks =  4,\n",
    "    ),\n",
    "    QuestionRequest(\n",
    "        question_number = 3,\n",
    "        q_type = \"short\",\n",
    "        question_text =  \"Write a short note on electron microscope keeping in view its radiation type, lenses, magnification and images.\",\n",
    "        answer_key = \"Radiation type: Beams of electrons \\n Lenses: Magnetic \\n Magnification: 100 times greater than light \\n Images: TEM shows 2D while SEM shows 3D images\",\n",
    "        rubrics = [(\"Radiation type: Beams of electrons\",1), (\"Lenses: Magnetic\",1), (\"Magnification: 100 times greater than light\",1), (\"Images: TEM shows 2D while SEM shows 3D images\",1)],\n",
    "        grammer_penalty =  \"Low\",\n",
    "        question_marks =  4,\n",
    "    ),\n",
    "    QuestionRequest(\n",
    "        question_number = 4,\n",
    "        q_type = \"short\",\n",
    "        question_text =  \"Define turgor and write any TWO points to show its importance Textbook in plants.\",\n",
    "        answer_key = \"\"\" **Turgor:** The pressure which is exerted by the cytoplasm against the answer cell wall is known as turgor pressure and the phenomenon is called turgor.\\n\n",
    "        **Importance of turgor in plants**:\\n\n",
    "        i. It plays an important role in maintaining the shape of the plant.\\n\n",
    "        ii. It provides supports to plants especially in young tissues.\\n\n",
    "        iii. It helps in closing and opening of the stomata.\\n\n",
    "        iv. Some flowers open during the day time and close at night. This is also due to change in turgor in the cells of sepals of flowers.\"\"\",\n",
    "        rubrics = [(\"Correct definition of turgor\",2), (\"Correct Importance\",1), (\"Correct Importance\",1)],\n",
    "        grammer_penalty =  \"Low\",\n",
    "        question_marks =  4,\n",
    "    ),\n",
    "    QuestionRequest(\n",
    "        question_number = 5,\n",
    "        q_type = \"short\",\n",
    "        question_text =  \"How is a prokaryotic cell different from a eukaryotic cell in Textbook terms of nucleus, cell membrane, cell wall and size.\",\n",
    "        answer_key = \"\"\"\n",
    "        | Component           | Prokaryotic Cell                                                                 | Eukaryotic Cell                                                       |\n",
    "        |--------------------|-----------------------------------------------------------------------------------|------------------------------------------------------------------------|\n",
    "        | Nucleus            | They lack membrane-bound nucleus.                                                 | The nuclear material is surrounded by a double membrane.              |\n",
    "        | Membrane organelles| Membrane bounded organelles are absent.                                           | Membrane bounded organelles are present.                              |\n",
    "        | Cell wall          | Cell wall is made of peptidoglycan (a singular larger polymer of amino acids and sugar). | Cell wall is made of cellulose (plants) or chitin (fungi).       |\n",
    "        | Size               | Comparatively smaller in size (0.5 µm)                                             | Larger in size (10–100 µm)                                            |\n",
    "        \"\"\",\n",
    "        rubrics = [(\"Correct difference in Nucleus\",1), (\"Correct difference in Membrane organelles\",1), (\"Correct difference in Cell wall\",1), (\"Correct difference in Size\",1)],\n",
    "        grammer_penalty =  \"Low\",\n",
    "        question_marks =  4,\n",
    "    ),\n",
    "    QuestionRequest(\n",
    "        question_number = 6,\n",
    "        q_type = \"short\",\n",
    "        question_text =  \"Enlist the events (and show with diagram) through which mitotic apparatus is formed in prophase in animal cells\",\n",
    "        answer_key = \"\"\" i. In animal cell, when two parts of centrioles reach opposite answer pole of the cell. They make a network of spindle fibers betweenthe two poles. The complete set of spindle fiber forms mitotic apparatus. \"\"\",\n",
    "        rubrics = [(\"Event : two parts of centrioles reach opposite pole of the cell\",1), (\"Event : They make a network of spindle fibers between the two poles\",1), (\"Correct Diagram\",2)],\n",
    "        grammer_penalty =  \"Low\",\n",
    "        question_marks =  4,\n",
    "    ),\n",
    "    QuestionRequest(\n",
    "        question_number = 7,\n",
    "        q_type = \"short\",\n",
    "        question_text =  \"How are enzymes specific for their substrate? Justify it with the help of diagram of shape of active site of enzyme and its specificity. Also give its TWO examples.\",\n",
    "        answer_key = \"\"\" Examples:\\n\n",
    "        Enzyme protease: Speed up the digestion of protein only.\\n\n",
    "        Enzyme amylase: Works for the digestion of starch only.\\n\n",
    "        Enzyme cellulose: Speed up the digestion of cellulose only.\\n\n",
    "        Enzyme lipase: Digests lipase only.\"\"\",\n",
    "        rubrics = [(\"Diagram\",2), (\"First correct example \",1), (\"Second correct example \",1)],\n",
    "        grammer_penalty =  \"Low\",\n",
    "        question_marks =  4,\n",
    "    ),\n",
    "    QuestionRequest(\n",
    "        question_number = 8,\n",
    "        q_type = \"short\",\n",
    "        question_text =  \"How are enzymes specific for their substrate? Justify it with the help of diagram of shape of active site of enzyme and its specificity. Also give its TWO examples.\",\n",
    "        answer_key = \"\"\"\n",
    "        | Respiration | Photosynthesis |\n",
    "        |-------------|----------------|\n",
    "        | It is energy releasing process. | It is an energy storing process. |\n",
    "        | Stored energy of food molecules is released for cellular activities. | Energy of sunlight is trapped by the chlorophyll and converted into chemical energy and stored in organic food molecules. |\n",
    "        | Glucose and oxygen are the raw materials while carbon dioxide and water are the products. | Carbon dioxide and water are used as raw materials while glucose and oxygen are the products. |\n",
    "        | Oxygen is required in aerobic respiration. | Oxygen is liberated as by product. |\n",
    "        | It takes place in all the cells of all living organisms. | It takes place only in green cells of plants, algae and some bacteria. |\n",
    "        | It is destructive (catabolic) process during which organic food molecules are broken and energy is released. | It is constructive (anabolic) process during which organic food molecules are synthesized and energy is stored. |\n",
    "        | Due to respiration, loss of weight occurs. | Due to photosynthesis, plant body gains weight. |\n",
    "        | It occurs round the clock, day and night. It does not require sunlight. | It occurs during the daytime when sunlight is available which is necessary for it. |\n",
    "        \"\"\",\n",
    "        rubrics = [(\"One Correct Difference\",1), (\"One Correct Difference \",1), (\"One Correct Difference\",1), (\"One Correct Difference\",1)],\n",
    "        grammer_penalty =  \"Low\",\n",
    "        question_marks =  4,\n",
    "    ),\n",
    "    QuestionRequest(\n",
    "        question_number = 9,\n",
    "        q_type = \"short\",\n",
    "        question_text =  \"Write any FOUR deficiency symptoms of vitamin D.\",\n",
    "        answer_key = \"\"\"\n",
    "        Deficiency symptoms of vitamin D:\n",
    "        1. Bones can become thin, brittle and soft.\\n\n",
    "        2. In children vitamin D deficiency leads to rickets (condition in\n",
    "        which bones weaken and bow under pressure).\\n\n",
    "        3. In adults, vitamin D deficiency symptom causes\n",
    "        osteomalacia (soft bones).\\n\n",
    "        4. Vitamin D deficiency symptom also causes fractures.\\n\n",
    "        Note: Any other related or correct deficiency symptom of vitamin D out of textbook may be considered.\n",
    "        \"\"\",\n",
    "        rubrics = [(\"One Correct symptom\",1), (\"One Correct symptom\",1), (\"One Correct symptom\",1), (\"One Correct symptom\",1)],\n",
    "        grammer_penalty =  \"Low\",\n",
    "        question_marks =  4,\n",
    "    ),\n",
    "    QuestionRequest(\n",
    "        question_number = 10,\n",
    "        q_type = \"short\",\n",
    "        question_text =  \"List any FOUR functions of plasma in human body.\",\n",
    "        answer_key = \"\"\"\n",
    "        FUNCTIONS OF PLASMA IN HUMAN BODY:\\n\n",
    "        1. Plasma keeps all the tissues moist.\\n\n",
    "        2. Plasma of the blood transport nutrients, water, salt, Textbook Board hormones and waste materials.\\n\n",
    "        3. Plasma helps in regulating body temperature.\\n\n",
    "        4. Small amount of oxygen is also carried by plasma. Most of the carbon dioxide is carried by plasma.\\n\n",
    "        5. Plasma proteins e.g. albumins maintain the osmotic pressure of blood\\n\n",
    "        6. Important plasma proteins called antibodies defend the body against pathogens.\\n\n",
    "        7. Another plasma protein fibrinogen is responsible for blood clotting.\\n\n",
    "        \"\"\",\n",
    "        rubrics = [(\"One Correct Function\",1), (\"One Correct Function \",1), (\"One Correct Function\",1), (\"One Correct Function\",1)],\n",
    "        grammer_penalty =  \"Low\",\n",
    "        question_marks =  4,\n",
    "    ),\n",
    "    QuestionRequest(\n",
    "        question_number = 11,\n",
    "        q_type = \"short\",\n",
    "        question_text =  \"Why are arteries important? Draw a labelled diagram of artery.\",\n",
    "        answer_key = \"\"\"\n",
    "        IMPORTANCE OF ARTERIES.:\n",
    "        All the arteries carry oxygenated blood from heart to other organ of the body except pulmonary arteries which carry deoxygenated blood to lungs.\n",
    "        \"\"\",\n",
    "        rubrics = [(\"Correct explanation of importance\",2), (\"Correct Diagram \",2)],\n",
    "        grammer_penalty =  \"Low\",\n",
    "        question_marks =  4,\n",
    "    ),\n",
    "    QuestionRequest(\n",
    "        question_number = 12,\n",
    "        q_type = \"long\",\n",
    "        question_text =  \"i. Explain the applications of mathematics rules used in biology research work. ii. Define the term conservation. Write any THREE examples of the steps taken in Pakistan to conserve biodiversity.\",\n",
    "        answer_key = \"\"\"\n",
    "        i. APPLICATIONS OF MATHEMATICS RULES USED IN BIOLOGY RESEARCH WORK\\n\n",
    "        • Population studies\\n\n",
    "        • Drugs studies\\n\n",
    "        • Sequencing of plants and animals\\n\n",
    "        • DNA\\n\n",
    "        All the above fields of biology require mathematical knowledge rules for organizing and analyzing data.\\n\n",
    "        ii. CONSERVATION \\n\n",
    "        Conservation means to use the resources such as plants, animals, minerals and water in a sensible way.\\n\n",
    "        Examples of steps taken in Pakistan for conservation of biodiversity\\n\n",
    "        • Indus Dolphin Project (IDP) to save Indus Dolphin\\n\n",
    "        • Projected Areas Management Project in Machian in Azad Jammu Kashmir\\n\n",
    "        • Marine Turtle Conservation Project\\n\n",
    "        • Ban on the hunting of markhor and urial in Balochistan\\n\n",
    "        • Himalayan Jungle Project to protect the biodiversity in Himalayan region\\n\n",
    "        • Conservation of migratory birds in Chitral, Khyber Pakhtunkwa\\n\n",
    "        • Himalayan Wildlife Project to check the hunting of brown bears\\n\n",
    "        • Conservation of Chiltan Markhor\\n\n",
    "        • Ban on Bear-baiting in Pakistan\\n\n",
    "        \"\"\",\n",
    "        rubrics = [(\"one correct application of mathematics in biology\",1), (\"one correct application of mathematics in biology\",1),(\"one correct application of mathematics in biology\",1), (\"one correct examples of steps\",1),(\"one correct examples of steps\",1),(\"one correct examples of steps\",1) ],\n",
    "        grammer_penalty =  \"Low\",\n",
    "        question_marks =  7,\n",
    "    ),\n",
    "    QuestionRequest(\n",
    "        question_number = 13,\n",
    "        q_type = \"long\",\n",
    "        question_text =  \"i. Briefly explain following animal tissues: a. Fibrous connective tissues, b. Smooth muscles, c. Nervous tissues, d. Epithelial tissue. ii. Define Cell Cycle and write names of its TWO main stages.\",\n",
    "        answer_key = \"\"\"\n",
    "        i. ANIMAL TISSUES\\n\n",
    "        a. Fibrous connective tissues: Its extracellular material contains tightly packed collagen fibers. It is the form of tendon which attaches muscles to bones and ligaments join two bones.\\n\n",
    "        b. Smooth muscles: These are found in the walls of hollow structures such as blood vessels, gut etc. They produce slow contractions.\n",
    "        c. Nervous tissues: It is composed of nerve cells which are called neurons. Neurons are capable of transmitting nerve impulses to conduct messages in the whole body.\n",
    "        d. Epithelial tissue: The skin is made of epithelial tissue, which is in the form of continuous sheets of cells. Epithelial tissue also lines the gut, lungs and urinary tract.\n",
    "        ii. CELL CYCLE:\\n\n",
    "        The series of events that take place in a eukaryotic cell leading to its replication is called cell cycle.\\n\n",
    "        Main stages of cell cycle : \\n\n",
    "        • Interphase or resting stage \\n\n",
    "        • Division phase (Mitosis or Meiosis) \\n\n",
    "        \"\"\",\n",
    "        rubrics = [(\"one correct brief description of given tissue\",1), (\"one correct brief description of given tissue\",1),(\"one correct brief description of given tissue\",1), (\"one correct brief description of given tissue\",1), (\"correct definition of cell cycle\",1), (\" correct name of one stage of cell cycle\",1), (\" correct name of one stage of cell cycle\",1) ],\n",
    "        grammer_penalty =  \"Low\",\n",
    "        question_marks =  7,\n",
    "    ),\n",
    "    QuestionRequest(\n",
    "        question_number = 14,\n",
    "        q_type = \"long\",\n",
    "        question_text =  \"i. Why is mitochondrial enzyme called intracellular? Give justification. ii. Explain the synthesis and breaking of ATP through ATP-ADP cycle with proper diagrams\",\n",
    "        answer_key = \"\"\"\n",
    "        i. Why is mitochondrial enzyme called intracellular?\n",
    "        All enzymes are synthesized inside cells. Mitochondrial enzyme also work inside the cells so it is also called intracellular enzymes.\n",
    "        ii. Synthesis and breaking of ATP through ATP-ADP cycle Synthesis:\n",
    "        Synthesis : ATP molecules are constantly broken by the cell into ADP and inorganic phosphate and energy is obtained.\n",
    "        Breaking of ATP: ATP molecules are constantly regenerated from ADP and phosphate using energy released from the breakdown of food. This is how constant cycle of ATP breakdown and reformation goes on in the living cells.\n",
    "        \"\"\",\n",
    "        rubrics = [(\"Correct description of mitochondrial enzyme as intracellular of ATP\",3), (\"Correct description of Synthesis of ATP\",1),(\"Correct diagram of Synthesis\",1), (\"Correct description of Breaking of ATP\",1), (\"Correct diagram of Breaking of ATP\",1) ],\n",
    "        grammer_penalty =  \"Low\",\n",
    "        question_marks =  7,\n",
    "    ),\n",
    "    QuestionRequest(\n",
    "        question_number = 15,\n",
    "        q_type = \"long\",\n",
    "        question_text =  \"i. State symptoms, causes and preventions of the diarrhea. ii. Differentiate between Atherosclerosis and Arteriosclerosis\",\n",
    "        answer_key = \"\"\"\n",
    "        i. DIARRHEA :\n",
    "        Symptoms : frequent, watery, loose bowel movement, abdominal pain, nausea and vomiting\n",
    "        Causes : bacterial infection, viral or parasitic infection of the colon walls\n",
    "        Prevention : can be prevented by taking sufficient amounts of clean water and food\n",
    "        ii. Differentiate between Atherosclerosis and Arteriosclerosis\n",
    "        Atherosclerosis : It is characterized by the deposition of fatty material e.g. cholesterol inside the arteries. Due to this, the lumen (interior) of the artery becomes narrow and blood flows with difficulty.Later, the artery may completely be blocked. Some obvious reasons of atherosclerosis are hypertension, smoking, diabetes mellitus and increased lipid level in blood\n",
    "        Arteriosclerosis : It is the hardening of the arteries due to the deposition of calcium in the walls of the arteries. Such artery cannot expand when blood is pumped with pressure into it with systole. Due to this inflexibility makes the heart to work hard. This disorder occurs with increasing age. \n",
    "        \"\"\",\n",
    "        rubrics = [( \"Correct symptoms of diarrhea\",1), ( \"Correct causes of diarrhea\",1), ( \"Correct preventions of diarrhea\",1), ( \"Correct description (differences) of Atherosclerosis.\",2), ( \"Correct description (differences) of Arteriosclerosis.\",2) ],\n",
    "        grammer_penalty =  \"Low\",\n",
    "        question_marks =  7,\n",
    "    ),\n",
    "]    \n",
    "\n",
    "request = MarkSubjectiveAnswerSheetRequest(\n",
    "    answerSheetPdfUrl = \"https://firebasestorage.googleapis.com/v0/b/todo-a907b.firebasestorage.app/o/objectiveAnswerSheets%2Fsample_answer_sheet.pdf?alt=media&token=bc88e7c5-a3bc-4426-91bd-368753c5261a\",\n",
    "    list_of_questions = question_list,\n",
    "    language = \"English\",\n",
    ")"
   ]
  },
  {
   "cell_type": "markdown",
   "id": "5a9096a6",
   "metadata": {},
   "source": [
    "# Subjective Marking"
   ]
  },
  {
   "cell_type": "code",
   "execution_count": 3,
   "id": "7c08fa84",
   "metadata": {},
   "outputs": [
    {
     "name": "stdout",
     "output_type": "stream",
     "text": [
      "✅ 1. PDF downloaded successfully\n"
     ]
    }
   ],
   "source": [
    "pdf_stream = BytesIO(get_pdf_bytes_from_firebase(request.answerSheetPdfUrl))\n",
    "print(\"✅ 1. PDF downloaded successfully\")"
   ]
  },
  {
   "cell_type": "code",
   "execution_count": 4,
   "id": "e2ac0f47",
   "metadata": {},
   "outputs": [
    {
     "name": "stdout",
     "output_type": "stream",
     "text": [
      "✅ 2. Pages Extracted from PDF\n"
     ]
    }
   ],
   "source": [
    "images : List[Image.Image] = convert_from_bytes(pdf_stream.read())\n",
    "print(\"✅ 2. Pages Extracted from PDF\")"
   ]
  },
  {
   "cell_type": "code",
   "execution_count": 5,
   "id": "fce9e47f",
   "metadata": {},
   "outputs": [
    {
     "name": "stdout",
     "output_type": "stream",
     "text": [
      "✅ 3. Student ID Extracted: 123456\n"
     ]
    }
   ],
   "source": [
    "student_id = extract_student_id(images[0])\n",
    "print(f\"✅ 3. Student ID Extracted: {student_id}\")"
   ]
  },
  {
   "cell_type": "code",
   "execution_count": 6,
   "id": "f0f9f7e2",
   "metadata": {},
   "outputs": [
    {
     "name": "stdout",
     "output_type": "stream",
     "text": [
      "✅ 4. Pages mapped to question numbers\n"
     ]
    }
   ],
   "source": [
    "images_dict = map_pages_to_questions(images)\n",
    "print(\"✅ 4. Pages mapped to question numbers\")"
   ]
  },
  {
   "cell_type": "code",
   "execution_count": 7,
   "id": "562bc562",
   "metadata": {},
   "outputs": [
    {
     "name": "stdout",
     "output_type": "stream",
     "text": [
      "✅ 5. Images pre-processed\n"
     ]
    }
   ],
   "source": [
    "processed_images = pre_process_images(images_dict)\n",
    "print(\"✅ 5. Images pre-processed\")"
   ]
  },
  {
   "cell_type": "code",
   "execution_count": 8,
   "id": "90285f43",
   "metadata": {},
   "outputs": [
    {
     "name": "stdout",
     "output_type": "stream",
     "text": [
      "✅ 6. OCR Performed\n"
     ]
    }
   ],
   "source": [
    "ocr_result = ocr_answer_sheet(processed_images)\n",
    "print(\"✅ 6. OCR Performed\")"
   ]
  },
  {
   "cell_type": "code",
   "execution_count": 27,
   "id": "2c92a099",
   "metadata": {},
   "outputs": [],
   "source": [
    "processed_images[1][0].save(\"processed_image_1.png\")"
   ]
  },
  {
   "cell_type": "code",
   "execution_count": 22,
   "id": "94860483",
   "metadata": {},
   "outputs": [
    {
     "data": {
      "text/plain": [
       "'# EXAMPLE\\n\\n## ORGANIZATION\\n\\n### EVEI.\\n\\n- **Stomach**\\n- **Organism**\\n- **Man**\\n- **Cylocose**\\n- **Riboflavin**\\n- **Cyanide**\\n\\n### Organism\\n\\n- **Cyanide**\\n- **Molecule**\\n\\n### Riboflavin\\n\\n### Organelle\\n\\n![img-0.jpeg](img-0.jpeg)'"
      ]
     },
     "execution_count": 22,
     "metadata": {},
     "output_type": "execute_result"
    }
   ],
   "source": [
    "ocr_result[1]"
   ]
  },
  {
   "cell_type": "code",
   "execution_count": 9,
   "id": "57e84e55",
   "metadata": {},
   "outputs": [
    {
     "name": "stdout",
     "output_type": "stream",
     "text": [
      "✅ 7. Attempted Questions Filtered\n",
      "Attempted Questions Mask: {1: True, 2: True, 3: True, 4: True, 5: True, 6: False, 7: False, 8: False, 9: False, 10: False, 11: False, 12: False, 13: False, 14: True, 15: True}\n"
     ]
    }
   ],
   "source": [
    "attempted_qns_mask = get_attempted_question_mask(ocr_result)\n",
    "print(\"✅ 7. Attempted Questions Filtered\")\n",
    "print(\"Attempted Questions Mask:\", attempted_qns_mask)"
   ]
  },
  {
   "cell_type": "code",
   "execution_count": 10,
   "id": "e8e519b3",
   "metadata": {},
   "outputs": [
    {
     "name": "stdout",
     "output_type": "stream",
     "text": [
      "✅ 9. Presentation assessed for all attempted questions\n"
     ]
    }
   ],
   "source": [
    "presentation_scores = get_presentation_score(images_dict, attempted_qns_mask)\n",
    "print(\"✅ 9. Presentation assessed for all attempted questions\")"
   ]
  },
  {
   "cell_type": "code",
   "execution_count": 11,
   "id": "11ff737a",
   "metadata": {},
   "outputs": [
    {
     "name": "stdout",
     "output_type": "stream",
     "text": [
      "Marking question no 1\n",
      "Marking question no 2\n",
      "Marking question no 3\n",
      "Marking question no 4\n",
      "Marking question no 5\n",
      "Skipping question no 6 as it was not attempted\n",
      "Skipping question no 7 as it was not attempted\n",
      "Skipping question no 8 as it was not attempted\n",
      "Skipping question no 9 as it was not attempted\n",
      "Skipping question no 10 as it was not attempted\n",
      "Skipping question no 11 as it was not attempted\n",
      "Skipping question no 12 as it was not attempted\n",
      "Skipping question no 13 as it was not attempted\n",
      "Marking question no 14\n",
      "Marking question no 15\n",
      "✅ 10. All Answer Sheet Marked\n"
     ]
    }
   ],
   "source": [
    "mark_sheet = mark_answer_sheet(ocr_result, request, attempted_qns_mask)\n",
    "print(\"✅ 10. All Answer Sheet Marked\")"
   ]
  },
  {
   "cell_type": "code",
   "execution_count": 12,
   "id": "aa3f3a7c",
   "metadata": {},
   "outputs": [
    {
     "name": "stdout",
     "output_type": "stream",
     "text": [
      "✅ 11. Response Object generated from Marked Sheet\n"
     ]
    }
   ],
   "source": [
    "response_model = prepare_response(mark_sheet, student_id, presentation_scores , request, attempted_qns_mask)\n",
    "print(\"✅ 11. Response Object generated from Marked Sheet\")"
   ]
  },
  {
   "cell_type": "code",
   "execution_count": 21,
   "id": "d7e058d8",
   "metadata": {},
   "outputs": [
    {
     "name": "stdout",
     "output_type": "stream",
     "text": [
      "✅ PDF saved to: marked_response.pdf\n",
      "✅ 11. Mark Sheet PDF generated\n"
     ]
    }
   ],
   "source": [
    "generate_marksheet_pdf(response_model)\n",
    "print(\"✅ 11. Mark Sheet PDF generated\")"
   ]
  }
 ],
 "metadata": {
  "kernelspec": {
   "display_name": ".pilotenv",
   "language": "python",
   "name": "python3"
  },
  "language_info": {
   "codemirror_mode": {
    "name": "ipython",
    "version": 3
   },
   "file_extension": ".py",
   "mimetype": "text/x-python",
   "name": "python",
   "nbconvert_exporter": "python",
   "pygments_lexer": "ipython3",
   "version": "3.13.3"
  }
 },
 "nbformat": 4,
 "nbformat_minor": 5
}
